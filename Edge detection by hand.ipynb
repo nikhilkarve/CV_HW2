{
 "cells": [
  {
   "cell_type": "markdown",
   "id": "0aeaa0b2",
   "metadata": {},
   "source": [
    "# Edge Detection by hand - implemented from scratch using python\n",
    "\n",
    "we have implemented edge detection from scratch using python\n",
    "\n",
    "Steps:\n",
    "\n",
    "- Smooth the image with 2D gaussian: $n_{\\sigma} * I$\n",
    "- Compute Image Gradient using Sobel Operator: $\\nabla n_{\\sigma} * I$\n",
    "- Find Gradient Magnitude at each pixel: $|| \\nabla n_{\\sigma} * I ||$\n",
    "- Find Gradient Orientation at each pixel:\n",
    "$$ \\hat{n} = \\frac{\\nabla n_{\\sigma} * I}{|| \\nabla n_{\\sigma} * I ||}$$\n",
    "- Compute the laplacian along the Gradient Direction $\\hat{n}$ at each pixel\n",
    "\n",
    "$$ \\frac{\\partial^2(n_{\\sigma} * I)}{\\partial\\hat{n}^2}$$"
   ]
  },
  {
   "cell_type": "markdown",
   "id": "93af7f2a",
   "metadata": {},
   "source": [
    "## Import the necessary packages we only numpy for vector operations, matplotlib for plotting and math for mathematical operations"
   ]
  },
  {
   "cell_type": "code",
   "execution_count": 1,
   "id": "cb169db9",
   "metadata": {},
   "outputs": [],
   "source": [
    "import numpy as np\n",
    "import matplotlib.pyplot as plt\n",
    "import math"
   ]
  },
  {
   "cell_type": "markdown",
   "id": "cf73529a",
   "metadata": {},
   "source": [
    "### Taken the patch from image frames using Image Viewer in MatLab"
   ]
  },
  {
   "cell_type": "code",
   "execution_count": 2,
   "id": "5f5b4c70",
   "metadata": {},
   "outputs": [],
   "source": [
    "image_patch = [[43,46,97,170,192],[42,47,99,171,192],[43,46,100,172,190],[43,45,100,175,192],[43,46,101,176,192]]"
   ]
  },
  {
   "cell_type": "code",
   "execution_count": 3,
   "id": "87cd34ee",
   "metadata": {},
   "outputs": [],
   "source": [
    "image_patch = np.array(image_patch)"
   ]
  },
  {
   "cell_type": "code",
   "execution_count": 4,
   "id": "3001ec2a",
   "metadata": {},
   "outputs": [
    {
     "data": {
      "text/plain": [
       "(5, 5)"
      ]
     },
     "execution_count": 4,
     "metadata": {},
     "output_type": "execute_result"
    }
   ],
   "source": [
    "image_patch.shape"
   ]
  },
  {
   "cell_type": "code",
   "execution_count": 5,
   "id": "b8e2aa82",
   "metadata": {},
   "outputs": [
    {
     "data": {
      "text/plain": [
       "<matplotlib.image.AxesImage at 0x7fedf07b4700>"
      ]
     },
     "execution_count": 5,
     "metadata": {},
     "output_type": "execute_result"
    },
    {
     "data": {
      "image/png": "[encoded data removed]",
      "text/plain": [
       "<Figure size 432x288 with 1 Axes>"
      ]
     },
     "metadata": {
      "needs_background": "light"
     },
     "output_type": "display_data"
    }
   ],
   "source": [
    "plt.imshow(image_patch, cmap='gray')"
   ]
  },
  {
   "cell_type": "markdown",
   "id": "73ed157d",
   "metadata": {},
   "source": [
    "# The next block contains functions necessary for the implementation of edge detection\n",
    "\n",
    "#### High Level Overview \n",
    "- convolution - for convolution operation\n",
    "- dnorm - the function will give the values of the gaussian function to populate the guassian kernel\n",
    "- guassian kernel function - will create the guassian kernel\n",
    "- guassian blur - with the guassian kernel as input it will blur the output"
   ]
  },
  {
   "cell_type": "code",
   "execution_count": 6,
   "id": "ce0e5951",
   "metadata": {},
   "outputs": [],
   "source": [
    "def convolution(image, kernel, average=False, verbose=False):\n",
    "    if len(image.shape) == 3:\n",
    "        print(\"Found 3 Channels : {}\".format(image.shape))\n",
    "        image = cv2.cvtColor(image, cv2.COLOR_BGR2GRAY)\n",
    "        print(\"Converted to Gray Channel. Size : {}\".format(image.shape))\n",
    "    else:\n",
    "        print(\"Image Shape : {}\".format(image.shape))\n",
    " \n",
    "    print(\"Kernel Shape : {}\".format(kernel.shape))\n",
    " \n",
    "    if verbose:\n",
    "        plt.imshow(image, cmap='gray')\n",
    "        plt.title(\"Image\")\n",
    "        plt.show()\n",
    " \n",
    "    image_row, image_col = image.shape\n",
    "    kernel_row, kernel_col = kernel.shape\n",
    " \n",
    "    output = np.zeros(image.shape)\n",
    " \n",
    "    pad_height = int((kernel_row - 1) / 2)\n",
    "    pad_width = int((kernel_col - 1) / 2)\n",
    " \n",
    "    padded_image = np.zeros((image_row + (2 * pad_height), image_col + (2 * pad_width)))\n",
    " \n",
    "    padded_image[pad_height:padded_image.shape[0] - pad_height, pad_width:padded_image.shape[1] - pad_width] = image\n",
    " \n",
    "    if verbose:\n",
    "        plt.imshow(padded_image, cmap='gray')\n",
    "        plt.title(\"Padded Image\")\n",
    "        plt.show()\n",
    " \n",
    "    for row in range(image_row):\n",
    "        for col in range(image_col):\n",
    "            output[row, col] = np.sum(kernel * padded_image[row:row + kernel_row, col:col + kernel_col])\n",
    "            if average:\n",
    "                output[row, col] /= kernel.shape[0] * kernel.shape[1]\n",
    " \n",
    "    print(\"Output Image size : {}\".format(output.shape))\n",
    " \n",
    "    if verbose:\n",
    "        plt.imshow(output, cmap='gray')\n",
    "        plt.title(\"Output Image using {}X{} Kernel\".format(kernel_row, kernel_col))\n",
    "        plt.show()\n",
    " \n",
    "    return output"
   ]
  },
  {
   "cell_type": "code",
   "execution_count": 7,
   "id": "fa93034c",
   "metadata": {},
   "outputs": [],
   "source": [
    "def dnorm(x, mu, sd):\n",
    "    return 1 / (np.sqrt(2 * np.pi) * sd) * np.e ** (-np.power((x - mu) / sd, 2) / 2)\n",
    " \n",
    "def gaussian_kernel(size, sigma=1, verbose=False):\n",
    "    kernel_1D = np.linspace(-(size // 2), size // 2, size)\n",
    "    for i in range(size):\n",
    "        kernel_1D[i] = dnorm(kernel_1D[i], 0, sigma)\n",
    "    kernel_2D = np.outer(kernel_1D.T, kernel_1D.T)\n",
    " \n",
    "    kernel_2D *= 1.0 / kernel_2D.max()\n",
    " \n",
    "    if verbose:\n",
    "        plt.imshow(kernel_2D, interpolation='none', cmap='gray')\n",
    "        plt.title(\"Kernel ( {}X{} )\".format(size, size))\n",
    "        plt.show()\n",
    " \n",
    "    return kernel_2D\n",
    " \n",
    "def gaussian_blur(image, kernel_size, verbose=False):\n",
    "    kernel = gaussian_kernel(kernel_size, sigma=1, verbose=verbose)\n",
    "    return convolution(image, kernel, average=True, verbose=verbose)"
   ]
  },
  {
   "cell_type": "code",
   "execution_count": 8,
   "id": "296b584f",
   "metadata": {},
   "outputs": [
    {
     "data": {
      "image/png": "[encoded data removed]",
      "text/plain": [
       "<Figure size 432x288 with 1 Axes>"
      ]
     },
     "metadata": {
      "needs_background": "light"
     },
     "output_type": "display_data"
    },
    {
     "name": "stdout",
     "output_type": "stream",
     "text": [
      "Image Shape : (5, 5)\n",
      "Kernel Shape : (5, 5)\n"
     ]
    },
    {
     "data": {
      "image/png": "[encoded data removed]",
      "text/plain": [
       "<Figure size 432x288 with 1 Axes>"
      ]
     },
     "metadata": {
      "needs_background": "light"
     },
     "output_type": "display_data"
    },
    {
     "data": {
      "image/png": "[encoded data removed]",
      "text/plain": [
       "<Figure size 432x288 with 1 Axes>"
      ]
     },
     "metadata": {
      "needs_background": "light"
     },
     "output_type": "display_data"
    },
    {
     "name": "stdout",
     "output_type": "stream",
     "text": [
      "Output Image size : (5, 5)\n"
     ]
    },
    {
     "data": {
      "image/png": "[encoded data removed]",
      "text/plain": [
       "<Figure size 432x288 with 1 Axes>"
      ]
     },
     "metadata": {
      "needs_background": "light"
     },
     "output_type": "display_data"
    }
   ],
   "source": [
    "blurred_patch = gaussian_blur(image_patch, 5, True)"
   ]
  },
  {
   "cell_type": "code",
   "execution_count": 9,
   "id": "e87717fc",
   "metadata": {},
   "outputs": [],
   "source": [
    "kernel = gaussian_kernel(5, sigma=1)"
   ]
  },
  {
   "cell_type": "code",
   "execution_count": 10,
   "id": "73123a0f",
   "metadata": {},
   "outputs": [
    {
     "data": {
      "text/plain": [
       "array([[0.01831564, 0.082085  , 0.13533528, 0.082085  , 0.01831564],\n",
       "       [0.082085  , 0.36787944, 0.60653066, 0.36787944, 0.082085  ],\n",
       "       [0.13533528, 0.60653066, 1.        , 0.60653066, 0.13533528],\n",
       "       [0.082085  , 0.36787944, 0.60653066, 0.36787944, 0.082085  ],\n",
       "       [0.01831564, 0.082085  , 0.13533528, 0.082085  , 0.01831564]])"
      ]
     },
     "execution_count": 10,
     "metadata": {},
     "output_type": "execute_result"
    }
   ],
   "source": [
    "kernel"
   ]
  },
  {
   "cell_type": "markdown",
   "id": "1fae2529",
   "metadata": {},
   "source": [
    "### here we take the derivative using the sobel operator we defined the sobel operator for derivative over x and derivative over y"
   ]
  },
  {
   "cell_type": "code",
   "execution_count": 11,
   "id": "19e05b20",
   "metadata": {},
   "outputs": [],
   "source": [
    "sobel_x = np.array([[-1,0,1],[-2,0,2],[-1,0,1]])\n",
    "sobel_y = np.array([[1,2,1],[0,0,0],[-1,-2,-1]])"
   ]
  },
  {
   "cell_type": "code",
   "execution_count": 12,
   "id": "37ac1f27",
   "metadata": {},
   "outputs": [],
   "source": [
    "def sobel_edge_detection(image, filter_x, filter_y, convert_to_degree=False, verbose=False):\n",
    "    new_image_x = convolution(image, filter_x, verbose)\n",
    "\n",
    "    if verbose:\n",
    "        plt.imshow(new_image_x, cmap='gray')\n",
    "        plt.title(\"Horizontal Edge\")\n",
    "        plt.show()\n",
    "\n",
    "    new_image_y = convolution(image, filter_y, verbose)\n",
    "\n",
    "    if verbose:\n",
    "        plt.imshow(new_image_y, cmap='gray')\n",
    "        plt.title(\"Vertical Edge\")\n",
    "        plt.show()\n",
    "\n",
    "    gradient_magnitude = np.sqrt(np.square(new_image_x) + np.square(new_image_y))\n",
    "\n",
    "    gradient_magnitude *= 255.0 / gradient_magnitude.max()\n",
    "\n",
    "    if verbose:\n",
    "        plt.imshow(gradient_magnitude, cmap='gray')\n",
    "        plt.title(\"Gradient Magnitude\")\n",
    "        plt.show()\n",
    "\n",
    "    gradient_direction = np.arctan2(new_image_y, new_image_x)\n",
    "\n",
    "    if convert_to_degree:\n",
    "        gradient_direction = np.rad2deg(gradient_direction)\n",
    "        gradient_direction += 180\n",
    "\n",
    "    return gradient_magnitude, gradient_direction"
   ]
  },
  {
   "cell_type": "code",
   "execution_count": 13,
   "id": "0524ee17",
   "metadata": {},
   "outputs": [
    {
     "name": "stdout",
     "output_type": "stream",
     "text": [
      "Image Shape : (5, 5)\n",
      "Kernel Shape : (3, 3)\n",
      "Output Image size : (5, 5)\n"
     ]
    },
    {
     "data": {
      "image/png": "[encoded data removed]",
      "text/plain": [
       "<Figure size 432x288 with 1 Axes>"
      ]
     },
     "metadata": {
      "needs_background": "light"
     },
     "output_type": "display_data"
    },
    {
     "name": "stdout",
     "output_type": "stream",
     "text": [
      "Image Shape : (5, 5)\n",
      "Kernel Shape : (3, 3)\n",
      "Output Image size : (5, 5)\n"
     ]
    },
    {
     "data": {
      "image/png": "[encoded data removed]",
      "text/plain": [
       "<Figure size 432x288 with 1 Axes>"
      ]
     },
     "metadata": {
      "needs_background": "light"
     },
     "output_type": "display_data"
    },
    {
     "data": {
      "image/png": "[encoded data removed]",
      "text/plain": [
       "<Figure size 432x288 with 1 Axes>"
      ]
     },
     "metadata": {
      "needs_background": "light"
     },
     "output_type": "display_data"
    }
   ],
   "source": [
    "gradient_magnitude, gradient_direction = sobel_edge_detection(blurred_patch, sobel_x,sobel_y, verbose=True)"
   ]
  },
  {
   "cell_type": "markdown",
   "id": "d556eba1",
   "metadata": {},
   "source": [
    "## Non max Supression\n",
    "\n",
    "This is used to remove the edges that are weakly present and give edges with strong response\n",
    "\n",
    "This is used instead of taking the second derivative along the direction of the edges detected as it is a compute heavy process and requires a lot of rotational matrices to convert the laplacian to the direction $\\hat{n}$\n",
    "\n",
    "NMS works in the following way:\n",
    "\n",
    "- After computing our gradient magnitude representation, the edges themselves are still quite noisy and blurred, but in reality there should only be one edge response for a given region, not a whole clump of pixels reporting themselves as edges.\n",
    "\n",
    "- To remedy this, we can apply edge thinning using non-maxima suppression. To apply non-maxima suppression we need to examine the gradient magnitude G and orientation \\theta at each pixel in the image and:\n",
    "1. Compare the current pixel to the 3 $\\times$ 3 neighborhood surrounding it\n",
    "2. Determine in which direction the orientation is pointing:\n",
    "    1. If it’s pointing towards the north or south, then examine the north and south magnitude\n",
    "    2. If the orientation is pointing towards the east or west, then examine the east and west pixels\n",
    "3. If the center pixel magnitude is greater than both the pixels it is being compared to, then preserve the magnitude; otherwise, discard it\n",
    "\n",
    "- Some implementations of the Canny edge detector round the value of \\theta to either 0^{\\circ}, 45^{\\circ}, 90^{\\circ}, or 135^{\\circ}, and then use the rounded angle to compare not only the north, south, east, and west pixels, but also the corner top-left, top-right, bottom-right, and bottom-left pixels as well."
   ]
  },
  {
   "cell_type": "code",
   "execution_count": 14,
   "id": "6c6e7426",
   "metadata": {},
   "outputs": [],
   "source": [
    "def non_max_suppression(gradient_magnitude, gradient_direction, verbose):\n",
    "    image_row, image_col = gradient_magnitude.shape\n",
    " \n",
    "    output = np.zeros(gradient_magnitude.shape)\n",
    " \n",
    "    PI = 180\n",
    " \n",
    "    for row in range(1, image_row - 1):\n",
    "        for col in range(1, image_col - 1):\n",
    "            direction = gradient_direction[row, col]\n",
    " \n",
    "            if (0 <= direction < PI / 8) or (15 * PI / 8 <= direction <= 2 * PI):\n",
    "                before_pixel = gradient_magnitude[row, col - 1]\n",
    "                after_pixel = gradient_magnitude[row, col + 1]\n",
    " \n",
    "            elif (PI / 8 <= direction < 3 * PI / 8) or (9 * PI / 8 <= direction < 11 * PI / 8):\n",
    "                before_pixel = gradient_magnitude[row + 1, col - 1]\n",
    "                after_pixel = gradient_magnitude[row - 1, col + 1]\n",
    " \n",
    "            elif (3 * PI / 8 <= direction < 5 * PI / 8) or (11 * PI / 8 <= direction < 13 * PI / 8):\n",
    "                before_pixel = gradient_magnitude[row - 1, col]\n",
    "                after_pixel = gradient_magnitude[row + 1, col]\n",
    " \n",
    "            else:\n",
    "                before_pixel = gradient_magnitude[row - 1, col - 1]\n",
    "                after_pixel = gradient_magnitude[row + 1, col + 1]\n",
    " \n",
    "            if gradient_magnitude[row, col] >= before_pixel and gradient_magnitude[row, col] >= after_pixel:\n",
    "                output[row, col] = gradient_magnitude[row, col]\n",
    " \n",
    "    if verbose:\n",
    "        plt.imshow(output, cmap='gray')\n",
    "        plt.title(\"Non Max Suppression\")\n",
    "        plt.show()\n",
    " \n",
    "    return output"
   ]
  },
  {
   "cell_type": "code",
   "execution_count": 15,
   "id": "28b6680f",
   "metadata": {},
   "outputs": [
    {
     "data": {
      "image/png": "[encoded data removed]",
      "text/plain": [
       "<Figure size 432x288 with 1 Axes>"
      ]
     },
     "metadata": {
      "needs_background": "light"
     },
     "output_type": "display_data"
    }
   ],
   "source": [
    "final_image = non_max_suppression(gradient_magnitude, gradient_direction, verbose=True)"
   ]
  }
 ],
 "metadata": {
  "kernelspec": {
   "display_name": "Python 3",
   "language": "python",
   "name": "python3"
  },
  "language_info": {
   "codemirror_mode": {
    "name": "ipython",
    "version": 3
   },
   "file_extension": ".py",
   "mimetype": "text/x-python",
   "name": "python",
   "nbconvert_exporter": "python",
   "pygments_lexer": "ipython3",
   "version": "3.8.8"
  }
 },
 "nbformat": 4,
 "nbformat_minor": 5
}
