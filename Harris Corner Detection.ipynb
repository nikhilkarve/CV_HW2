{
 "cells": [
  {
   "cell_type": "markdown",
   "id": "6e3b191f",
   "metadata": {},
   "source": [
    "# Harris Corner Detection - From scratch using Python \n",
    "\n",
    "Steps:\n",
    "\n",
    "- Compute gradients along X and Y\n",
    "- Calculate the moment of inertia along an elliptical curve fitting\n",
    "- Then get $E_{max} = \\lambda_1$ and $E_{min} = \\lambda_2$ by solving for the equations using SVD or EVD.\n",
    "- Then calulate the response function R using $R = \\lambda_1\\lambda_2 - k(\\lambda_1 + \\lambda_2)^2$ and k empirically found between 0.4 to 0.6\n",
    "- Using Non Max Supression - which we will not be using here as we are only computing for one patch.\n",
    "    1. Slide a window of size k over the image\n",
    "    2. At each position, if the pixel at the center is that maximum value within the window, label it as positive (retain it). Else label it as negative (supress it)."
   ]
  },
  {
   "cell_type": "code",
   "execution_count": 1,
   "id": "531e5419",
   "metadata": {},
   "outputs": [],
   "source": [
    "import matplotlib.pyplot as plt\n",
    "import numpy as np\n",
    "from skimage.io import imread\n",
    "from skimage.color import rgb2gray\n",
    "from scipy.ndimage import sobel, gaussian_filter, convolve\n",
    "from scipy import signal\n",
    "import skimage.io as io\n",
    "import cv2"
   ]
  },
  {
   "cell_type": "code",
   "execution_count": 2,
   "id": "59dbd1f5",
   "metadata": {},
   "outputs": [
    {
     "data": {
      "text/plain": [
       "array([[255, 245, 255,   0,   4],\n",
       "       [231, 240, 255,   0,  13],\n",
       "       [255, 255, 239,   8,   0],\n",
       "       [  0,  11,  14,   0,   4],\n",
       "       [ 24,  18,   0,   6,   7]], dtype=uint8)"
      ]
     },
     "execution_count": 2,
     "metadata": {},
     "output_type": "execute_result"
    },
    {
     "data": {
      "image/png": "[encoded data removed]",
      "text/plain": [
       "<Figure size 432x288 with 1 Axes>"
      ]
     },
     "metadata": {
      "needs_background": "light"
     },
     "output_type": "display_data"
    }
   ],
   "source": [
    "#If we use Harris corner detector in a color image, \n",
    "#the first step is to convert it into a grayscale image, which will enhance the processing speed.\n",
    "# Load image:\n",
    "input_pixels = imread('corner.jpg')\n",
    "# io.imsave('testl.jpg', input_pixels)\n",
    "plt.imshow(input_pixels, cmap='gray')\n",
    "input_pixels = cv2.cvtColor(input_pixels, cv2.COLOR_RGB2GRAY)\n",
    "input_pixels"
   ]
  },
  {
   "cell_type": "code",
   "execution_count": 3,
   "id": "f175573e",
   "metadata": {},
   "outputs": [
    {
     "data": {
      "text/plain": [
       "(5, 5)"
      ]
     },
     "execution_count": 3,
     "metadata": {},
     "output_type": "execute_result"
    }
   ],
   "source": [
    "input_pixels.shape"
   ]
  },
  {
   "cell_type": "code",
   "execution_count": 4,
   "id": "cfba13c7",
   "metadata": {},
   "outputs": [],
   "source": [
    "def plotIxIy(Ix, Iy):\n",
    "    plt.subplot(121)\n",
    "    plt.title(\"Ix\")\n",
    "    plt.imshow(Ix, cmap=\"gray\")\n",
    "    plt.subplot(122)\n",
    "    plt.title(\"Iy\")\n",
    "    plt.imshow(Iy, cmap=\"gray\")  "
   ]
  },
  {
   "cell_type": "code",
   "execution_count": 5,
   "id": "58bf023a",
   "metadata": {},
   "outputs": [
    {
     "data": {
      "image/png": "[encoded data removed]",
      "text/plain": [
       "<Figure size 432x288 with 2 Axes>"
      ]
     },
     "metadata": {
      "needs_background": "light"
     },
     "output_type": "display_data"
    }
   ],
   "source": [
    "Ix = sobel(input_pixels, axis=0)\n",
    "Iy = sobel(input_pixels, axis=1)\n",
    "plotIxIy(Ix, Iy)"
   ]
  },
  {
   "cell_type": "code",
   "execution_count": 6,
   "id": "a1aab2fb",
   "metadata": {},
   "outputs": [],
   "source": [
    "Ixx = Ix**2\n",
    "Iyy = Iy**2\n",
    "Ixy = Ix*Iy\n",
    "GAUSS = np.array((\n",
    "    [1/16, 2/16, 1/16],\n",
    "    [2/16, 4/16, 2/16],\n",
    "    [1/16, 2/16, 1/16]), dtype=\"float64\")\n",
    "Ixx = convolve(Ixx, GAUSS)\n",
    "Iyy = convolve(Iyy, GAUSS)\n",
    "Ixy = convolve(Ixy, GAUSS)\n",
    "M = [[Ixx , Ixy],[Ixy, Iyy]] #moment matrix"
   ]
  },
  {
   "cell_type": "code",
   "execution_count": 7,
   "id": "680fb8e1",
   "metadata": {},
   "outputs": [
    {
     "name": "stdout",
     "output_type": "stream",
     "text": [
      "[[193.52  27.72 218.36  32.36 177.68]\n",
      " [ 73.92 222.44  58.88 153.4   52.16]\n",
      " [ 93.64 235.68 250.36 220.44  47.52]\n",
      " [104.44 216.2    0.92 233.36 143.72]\n",
      " [198.56  77.24 106.4  156.24  64.16]]\n"
     ]
    }
   ],
   "source": [
    "# Sensitivity factor to separate corners from edges, typically in range `[0, 0.2]`. \n",
    "# Small values of k result in detection of sharp corners.\n",
    "k = 0.04\n",
    "\n",
    "# determinant\n",
    "det = Ixx * Iyy - (Ixy ** 2)\n",
    "# trace\n",
    "trace = Ixx + Iyy\n",
    "\n",
    "response = det - (k * trace ** 2)\n",
    "\n",
    "print(response)"
   ]
  },
  {
   "cell_type": "code",
   "execution_count": 8,
   "id": "880e2ad7",
   "metadata": {},
   "outputs": [
    {
     "data": {
      "text/plain": [
       "(2, 2)"
      ]
     },
     "execution_count": 8,
     "metadata": {},
     "output_type": "execute_result"
    }
   ],
   "source": [
    "np.unravel_index(response.argmax(), response.shape) # we take the point with the maximum response"
   ]
  },
  {
   "cell_type": "code",
   "execution_count": 9,
   "id": "0eb91dab",
   "metadata": {},
   "outputs": [
    {
     "data": {
      "text/plain": [
       "array([[193.52,  27.72, 218.36,  32.36, 177.68],\n",
       "       [ 73.92, 222.44,  58.88, 153.4 ,  52.16],\n",
       "       [ 93.64, 235.68, 250.36, 220.44,  47.52],\n",
       "       [104.44, 216.2 ,   0.92, 233.36, 143.72],\n",
       "       [198.56,  77.24, 106.4 , 156.24,  64.16]])"
      ]
     },
     "execution_count": 9,
     "metadata": {},
     "output_type": "execute_result"
    }
   ],
   "source": [
    "response"
   ]
  },
  {
   "cell_type": "code",
   "execution_count": 10,
   "id": "1da2d5d6",
   "metadata": {},
   "outputs": [
    {
     "data": {
      "text/plain": [
       "array([[False, False, False, False, False],\n",
       "       [False, False, False, False, False],\n",
       "       [False, False, False, False, False],\n",
       "       [False, False, False, False, False],\n",
       "       [False, False, False, False, False]])"
      ]
     },
     "execution_count": 10,
     "metadata": {},
     "output_type": "execute_result"
    }
   ],
   "source": [
    "response == 0"
   ]
  },
  {
   "cell_type": "code",
   "execution_count": 11,
   "id": "b19e2910",
   "metadata": {},
   "outputs": [],
   "source": [
    "coords = np.unravel_index(np.argmax(response, axis=None), response.shape) #is used to find the index of maximum response"
   ]
  },
  {
   "cell_type": "code",
   "execution_count": 12,
   "id": "52772ddd",
   "metadata": {},
   "outputs": [
    {
     "data": {
      "text/plain": [
       "(2, 2)"
      ]
     },
     "execution_count": 12,
     "metadata": {},
     "output_type": "execute_result"
    }
   ],
   "source": [
    "coords"
   ]
  },
  {
   "cell_type": "code",
   "execution_count": 13,
   "id": "cd82cc18",
   "metadata": {},
   "outputs": [
    {
     "data": {
      "image/png": "[encoded data removed]",
      "text/plain": [
       "<Figure size 432x288 with 1 Axes>"
      ]
     },
     "metadata": {
      "needs_background": "light"
     },
     "output_type": "display_data"
    }
   ],
   "source": [
    "fig, ax = plt.subplots()\n",
    "ax.imshow(input_pixels, cmap=plt.cm.gray)\n",
    "ax.plot(coords[0], coords[1], color='red', marker='o',\n",
    "        linestyle='None', markersize=20)\n",
    "plt.show()"
   ]
  },
  {
   "cell_type": "markdown",
   "id": "81f339a6",
   "metadata": {},
   "source": [
    "###### The output for the harris corner detection can be found in the mlx and respective pdf files"
   ]
  }
 ],
 "metadata": {
  "kernelspec": {
   "display_name": "Python 3",
   "language": "python",
   "name": "python3"
  },
  "language_info": {
   "codemirror_mode": {
    "name": "ipython",
    "version": 3
   },
   "file_extension": ".py",
   "mimetype": "text/x-python",
   "name": "python",
   "nbconvert_exporter": "python",
   "pygments_lexer": "ipython3",
   "version": "3.8.8"
  }
 },
 "nbformat": 4,
 "nbformat_minor": 5
}
